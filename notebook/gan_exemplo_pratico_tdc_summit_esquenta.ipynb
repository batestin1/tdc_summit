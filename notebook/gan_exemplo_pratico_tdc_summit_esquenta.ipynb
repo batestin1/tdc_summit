{
  "nbformat": 4,
  "nbformat_minor": 0,
  "metadata": {
    "colab": {
      "provenance": [],
      "collapsed_sections": [
        "O-95yla4vyBM"
      ]
    },
    "kernelspec": {
      "name": "python3",
      "display_name": "Python 3"
    },
    "language_info": {
      "name": "python"
    }
  },
  "cells": [
    {
      "cell_type": "markdown",
      "source": [
        "<h1 style=\"text-align:center;color:red;\">GANs </h1>\n",
        "<p style=\"text-align:center;\">Por Maycon Cypriano Batestin</p>\n"
      ],
      "metadata": {
        "id": "KwOHTToXo5GK"
      }
    },
    {
      "cell_type": "markdown",
      "source": [
        "### Descriçao\n",
        "\n",
        "---\n",
        "1. O objetivo deste notebook é construir uma GAN utilizando alguns modelos pre treinados\n",
        "2. O primeiro deles é Desenho para Foto\n",
        "3. E depois vamos usar o modelo Dia para Noite\n",
        "4. Link do dataset -> [Link](http://efrosgans.eecs.berkeley.edu/pix2pix/datasets/)\n",
        "---"
      ],
      "metadata": {
        "id": "GbCCD-evpP7V"
      }
    },
    {
      "cell_type": "markdown",
      "source": [
        "\n",
        "\n",
        "# Documentação\n",
        "\n",
        "1. **Pandas** -> [Link](https://pandas.pydata.org/docs/)\n",
        "2. **Numpy** -> [Link](https://numpy.org/doc/)\n",
        "4. **Keras** -> [Link](https://keras.io/api/)\n",
        "5. **TensorFlow** -> [Link](https://www.tensorflow.org/api_docs/python/tf/keras)\n",
        "6. Models -> [link](http://efrosgans.eecs.berkeley.edu/pix2pix/models-pytorch/)\n",
        "7. CV2 -> [link](https://docs.opencv.org/4.x/d6/d00/tutorial_py_root.html)\n",
        "\n"
      ],
      "metadata": {
        "id": "4a-s51mPxNz6"
      }
    },
    {
      "cell_type": "markdown",
      "source": [
        "# Bibliotecas"
      ],
      "metadata": {
        "id": "zPpTTYnl9iWS"
      }
    },
    {
      "cell_type": "code",
      "source": [
        "import cv2\n",
        "import numpy as np\n",
        "import pandas as pd\n",
        "import os\n",
        "from matplotlib import pyplot as plt\n",
        "from google.colab.patches import cv2_imshow\n",
        "\n"
      ],
      "metadata": {
        "id": "m5CXwibw9lQN"
      },
      "execution_count": null,
      "outputs": []
    },
    {
      "cell_type": "markdown",
      "source": [
        "# Obtendo o dataset"
      ],
      "metadata": {
        "id": "O-95yla4vyBM"
      }
    },
    {
      "cell_type": "code",
      "source": [
        "!git clone https://github.com/junyanz/pytorch-CycleGAN-and-pix2pix\n",
        "%cd pytorch-CycleGAN-and-pix2pix/\n",
        "# realizando a instalacao dos componentes necessários\n",
        "!pip install -r requirements.txt\n",
        "#limpando o output\n",
        "%clear"
      ],
      "metadata": {
        "id": "7k6jipPN58iz"
      },
      "execution_count": null,
      "outputs": []
    },
    {
      "cell_type": "code",
      "source": [
        "!clear"
      ],
      "metadata": {
        "id": "Ci24bSi27Gb8"
      },
      "execution_count": null,
      "outputs": []
    },
    {
      "cell_type": "markdown",
      "source": [
        "#Carregando o modelo pré-treinado"
      ],
      "metadata": {
        "id": "fxQIZ9ZX7X4o"
      }
    },
    {
      "cell_type": "code",
      "source": [
        "nome_modelo = 'facades_label2photo'\n"
      ],
      "metadata": {
        "id": "dLfAvI1P7dYb"
      },
      "execution_count": null,
      "outputs": []
    },
    {
      "cell_type": "code",
      "source": [
        "diretorio_modelo = \"./checkpoints/{}_pretreinado/\".format(nome_modelo)"
      ],
      "metadata": {
        "id": "npGZDBiH7pnw"
      },
      "execution_count": null,
      "outputs": []
    },
    {
      "cell_type": "code",
      "source": [
        "!mkdir -p {diretorio_modelo}"
      ],
      "metadata": {
        "id": "BpG8MYy17s5K"
      },
      "execution_count": null,
      "outputs": []
    },
    {
      "cell_type": "code",
      "source": [
        "url_modelo = 'http://efrosgans.eecs.berkeley.edu/pix2pix/models-pytorch/{}.pth'.format(nome_modelo)\n",
        "url_modelo"
      ],
      "metadata": {
        "id": "KN_blFCb7wnV"
      },
      "execution_count": null,
      "outputs": []
    },
    {
      "cell_type": "code",
      "source": [
        "!wget -N {url_modelo}"
      ],
      "metadata": {
        "id": "fMj3Q9DB75ow"
      },
      "execution_count": null,
      "outputs": []
    },
    {
      "cell_type": "code",
      "source": [
        "!mv {nome_modelo}.pth {diretorio_modelo}latest_net_G.pth"
      ],
      "metadata": {
        "id": "zfbHXsLW79v0"
      },
      "execution_count": null,
      "outputs": []
    },
    {
      "cell_type": "markdown",
      "source": [
        "# Projeto FACHADAS"
      ],
      "metadata": {
        "id": "adpcVDSs8ULL"
      }
    },
    {
      "cell_type": "markdown",
      "source": [
        "#### Objetivo é mapear as fachadas de prédios em cidades"
      ],
      "metadata": {
        "id": "y4ocFz3F8d-y"
      }
    },
    {
      "cell_type": "markdown",
      "source": [
        "### Obtendo o dataset"
      ],
      "metadata": {
        "id": "utnIZ3bD8jX3"
      }
    },
    {
      "cell_type": "code",
      "source": [
        "dataset = 'facades'\n",
        "arquivo_dataset = \"{}.tar.gz\".format(dataset)\n",
        "url_dataset = \"http://efrosgans.eecs.berkeley.edu/pix2pix/datasets/{}\".format(arquivo_dataset)\n",
        "url_dataset"
      ],
      "metadata": {
        "id": "VQaDWHZ98AVa"
      },
      "execution_count": null,
      "outputs": []
    },
    {
      "cell_type": "code",
      "source": [
        "!wget -N {url_dataset}\n",
        "!tar -zxvf {arquivo_dataset} -C ./datasets/"
      ],
      "metadata": {
        "id": "MwWUnjQ58o1U"
      },
      "execution_count": null,
      "outputs": []
    },
    {
      "cell_type": "markdown",
      "source": [
        "# Testando o modelo"
      ],
      "metadata": {
        "id": "Hsx55aRx9MG4"
      }
    },
    {
      "cell_type": "code",
      "source": [
        "dataset, nome_modelo"
      ],
      "metadata": {
        "id": "hDmJW2ct9HBF"
      },
      "execution_count": null,
      "outputs": []
    },
    {
      "cell_type": "code",
      "source": [
        "!python test.py --dataroot ./datasets/{dataset} --direction BtoA --model pix2pix --name {nome_modelo}_pretreinado --gpu_ids -1\n"
      ],
      "metadata": {
        "id": "NWmjRQ_09Tq-"
      },
      "execution_count": null,
      "outputs": []
    },
    {
      "cell_type": "code",
      "source": [
        "diretorio_resultados = \"./results/{}_pretreinado/test_latest/images/\".format(nome_modelo)"
      ],
      "metadata": {
        "id": "5dwdCfCb9WPW"
      },
      "execution_count": null,
      "outputs": []
    },
    {
      "cell_type": "code",
      "source": [
        "imagem_real = cv2.imread(diretorio_resultados + \"34_real_A.png\")\n",
        "cv2_imshow(imagem_real)\n"
      ],
      "metadata": {
        "id": "il6S6nXt9WwX"
      },
      "execution_count": null,
      "outputs": []
    },
    {
      "cell_type": "code",
      "source": [
        "imagem_fake = cv2.imread(diretorio_resultados + \"34_real_B.png\")\n",
        "cv2_imshow(imagem_fake)\n",
        "\n"
      ],
      "metadata": {
        "id": "sWqOauvt_xpV"
      },
      "execution_count": null,
      "outputs": []
    },
    {
      "cell_type": "markdown",
      "source": [
        "# Dia para Noite"
      ],
      "metadata": {
        "id": "fjgTZ5He_pHx"
      }
    },
    {
      "cell_type": "markdown",
      "source": [
        "##### Transformar imagens noturnas para diarias"
      ],
      "metadata": {
        "id": "4DvrxiFKCkhW"
      }
    },
    {
      "cell_type": "markdown",
      "source": [
        "## Baixar e carregar modelo"
      ],
      "metadata": {
        "id": "61pUG9YHC0iD"
      }
    },
    {
      "cell_type": "code",
      "source": [
        "nome_modelo = 'day2night'\n",
        "diretorio_modelo = \"./checkpoints/{}_pretreinado/\".format(nome_modelo)\n",
        "!mkdir -p {diretorio_modelo}"
      ],
      "metadata": {
        "id": "vNigHL9uxmMm"
      },
      "execution_count": null,
      "outputs": []
    },
    {
      "cell_type": "code",
      "source": [
        "url_modelo = f\"http://efrosgans.eecs.berkeley.edu/pix2pix/models-pytorch/{nome_modelo}.pth\"\n",
        "!wget -N {url_modelo}"
      ],
      "metadata": {
        "id": "LEGlTUqJC47C"
      },
      "execution_count": null,
      "outputs": []
    },
    {
      "cell_type": "code",
      "source": [
        "!mv {nome_modelo}.pth {diretorio_modelo}latest_net_G.pth"
      ],
      "metadata": {
        "id": "vhEjpFYsC6z4"
      },
      "execution_count": null,
      "outputs": []
    },
    {
      "cell_type": "markdown",
      "source": [
        "### Geração dos Resultados"
      ],
      "metadata": {
        "id": "adULOCREC82W"
      }
    },
    {
      "cell_type": "code",
      "source": [
        "!python test.py --dataroot /content/teste --name {nome_modelo}_pretreinado --model test --dataset_mode single --netG unet_256 --norm batch --gpu_ids -1"
      ],
      "metadata": {
        "id": "juZgco3KC_j5"
      },
      "execution_count": null,
      "outputs": []
    },
    {
      "cell_type": "code",
      "source": [
        "imagem_real= cv2.imread(\"/content/pytorch-CycleGAN-and-pix2pix/results/day2night_pretreinado/test_latest/images/pexels-fabianwiktor-994605_real.png\")\n",
        "cv2_imshow(imagem_real)"
      ],
      "metadata": {
        "id": "QgdhJq0uFbCg"
      },
      "execution_count": null,
      "outputs": []
    },
    {
      "cell_type": "code",
      "source": [
        "imagem_fake= cv2.imread(\"/content/pytorch-CycleGAN-and-pix2pix/results/day2night_pretreinado/test_latest/images/pexels-fabianwiktor-994605_fake.png\")\n",
        "cv2_imshow(imagem_fake)"
      ],
      "metadata": {
        "id": "PnKZwxBOFr3T"
      },
      "execution_count": null,
      "outputs": []
    }
  ]
}